{
 "cells": [
  {
   "cell_type": "code",
   "execution_count": 1,
   "metadata": {},
   "outputs": [],
   "source": [
    "import urllib.request\n",
    "import pandas as pd\n",
    "import matplotlib.pyplot as plt"
   ]
  },
  {
   "cell_type": "code",
   "execution_count": 2,
   "metadata": {},
   "outputs": [],
   "source": [
    "gff_files_and_source_urls = {\"S_aureus.gff.gz\" : \"ftp://ftp.ncbi.nlm.nih.gov/genomes/all/GCF/000/013/425/GCF_000013425.1_ASM1342v1/GCF_000013425.1_ASM1342v1_genomic.gff.gz\",\n",
    "                           \"S_typhimurium.gff.gz\" : \"ftp://ftp.ncbi.nlm.nih.gov/genomes/all/GCF/000/195/995/GCF_000195995.1_ASM19599v1/GCF_000195995.1_ASM19599v1_genomic.gff.gz\",\n",
    "                           \"E_coli.gff.gz\":\"ftp://ftp.ncbi.nlm.nih.gov/genomes/refseq/bacteria/Escherichia_coli/reference/GCF_000005845.2_ASM584v2/GCF_000005845.2_ASM584v2_genomic.gff.gz\"}"
   ]
  },
  {
   "cell_type": "code",
   "execution_count": 21,
   "metadata": {},
   "outputs": [
    {
     "name": "stdout",
     "output_type": "stream",
     "text": [
      "S_aureus.gff.gz\n",
      "ftp://ftp.ncbi.nlm.nih.gov/genomes/all/GCF/000/013/425/GCF_000013425.1_ASM1342v1/GCF_000013425.1_ASM1342v1_genomic.gff.gz\n",
      "         seqid  source    type  start     ende score strand phase  \\\n",
      "0  NC_007795.1  RefSeq  region      1  2821361     .      +     .   \n",
      "1  NC_007795.1  RefSeq    gene    517     1878     .      +     .   \n",
      "2  NC_007795.1  RefSeq     CDS    517     1878     .      +     0   \n",
      "3  NC_007795.1  RefSeq    gene   2156     3289     .      +     .   \n",
      "4  NC_007795.1  RefSeq     CDS   2156     3289     .      +     0   \n",
      "\n",
      "                                          attributes  \n",
      "0  ID=NC_007795.1:1..2821361;Dbxref=taxon:93061;I...  \n",
      "1  ID=gene-SAOUHSC_00001;Dbxref=GeneID:3919798;Na...  \n",
      "2  ID=cds-YP_498609.1;Parent=gene-SAOUHSC_00001;D...  \n",
      "3  ID=gene-SAOUHSC_00002;Dbxref=GeneID:3919799;Na...  \n",
      "4  ID=cds-YP_498610.1;Parent=gene-SAOUHSC_00002;D...  \n"
     ]
    },
    {
     "data": {
      "image/png": "[encoded data removed]",
      "text/plain": [
       "<Figure size 432x288 with 1 Axes>"
      ]
     },
     "metadata": {
      "needs_background": "light"
     },
     "output_type": "display_data"
    },
    {
     "name": "stdout",
     "output_type": "stream",
     "text": [
      "S_typhimurium.gff.gz\n",
      "ftp://ftp.ncbi.nlm.nih.gov/genomes/all/GCF/000/195/995/GCF_000195995.1_ASM19599v1/GCF_000195995.1_ASM19599v1_genomic.gff.gz\n",
      "         seqid            source              type  start     ende score  \\\n",
      "0  NC_003198.1            RefSeq            region      1  4809037     .   \n",
      "1  NC_003198.1            RefSeq              gene    190      255     .   \n",
      "2  NC_003198.1  Protein Homology               CDS    190      255     .   \n",
      "3  NC_003198.1          cmsearch  sequence_feature    191      311     .   \n",
      "4  NC_003198.1            RefSeq              gene    337     2799     .   \n",
      "\n",
      "  strand phase                                         attributes  \n",
      "0      +     .  ID=NC_003198.1:1..4809037;Dbxref=taxon:220341;...  \n",
      "1      +     .  ID=gene-STY_RS00005;Name=thrL;gbkey=Gene;gene=...  \n",
      "2      +     0  ID=cds-WP_001575544.1;Parent=gene-STY_RS00005;...  \n",
      "3      +     .  ID=id-NC_003198.1:191..311;Dbxref=RFAM:RF00506...  \n",
      "4      +     .  ID=gene-STY_RS00010;Name=thrA;gbkey=Gene;gene=...  \n"
     ]
    },
    {
     "data": {
      "image/png": "[encoded data removed]",
      "text/plain": [
       "<Figure size 432x288 with 1 Axes>"
      ]
     },
     "metadata": {
      "needs_background": "light"
     },
     "output_type": "display_data"
    },
    {
     "name": "stdout",
     "output_type": "stream",
     "text": [
      "E_coli.gff.gz\n",
      "ftp://ftp.ncbi.nlm.nih.gov/genomes/refseq/bacteria/Escherichia_coli/reference/GCF_000005845.2_ASM584v2/GCF_000005845.2_ASM584v2_genomic.gff.gz\n",
      "         seqid  source    type  start     ende score strand phase  \\\n",
      "0  NC_000913.3  RefSeq  region      1  4641652     .      +     .   \n",
      "1  NC_000913.3  RefSeq    gene    190      255     .      +     .   \n",
      "2  NC_000913.3  RefSeq     CDS    190      255     .      +     0   \n",
      "3  NC_000913.3  RefSeq    gene    337     2799     .      +     .   \n",
      "4  NC_000913.3  RefSeq     CDS    337     2799     .      +     0   \n",
      "\n",
      "                                          attributes  \n",
      "0  ID=NC_000913.3:1..4641652;Dbxref=taxon:511145;...  \n",
      "1  ID=gene-b0001;Dbxref=ASAP:ABE-0000006,ECOCYC:E...  \n",
      "2  ID=cds-NP_414542.1;Parent=gene-b0001;Dbxref=Un...  \n",
      "3  ID=gene-b0002;Dbxref=ASAP:ABE-0000008,ECOCYC:E...  \n",
      "4  ID=cds-NP_414543.1;Parent=gene-b0002;Dbxref=Un...  \n"
     ]
    },
    {
     "data": {
      "image/png": "[encoded data removed]",
      "text/plain": [
       "<Figure size 432x288 with 1 Axes>"
      ]
     },
     "metadata": {
      "needs_background": "light"
     },
     "output_type": "display_data"
    }
   ],
   "source": [
    "%matplotlib inline\n",
    "for gff_file, source_url in gff_files_and_source_urls.items():\n",
    "    print(gff_file)\n",
    "    print(source_url)\n",
    "    urllib.request.urlretrieve(source_url,gff_file)\n",
    "    gff_data = pd.read_csv(gff_file, sep=\"\\t\", comment='#', \n",
    "                           names=[\"seqid\",\"source\",\"type\",\"start\",\"ende\",\"score\", \"strand\", \"phase\", \"attributes\"])\n",
    "    print(gff_data.head())\n",
    "    gff_data['length']= gff_data[\"ende\"]-gff_data[\"start\"]+1\n",
    "    gff_genes =gff_data[gff_data[\"type\"]==\"gene\"]\n",
    "    gff_genes['length'].hist(bins=30,color='purple')\n",
    "    plt.show()"
   ]
  },
  {
   "cell_type": "code",
   "execution_count": 22,
   "metadata": {},
   "outputs": [],
   "source": [
    "import os"
   ]
  },
  {
   "cell_type": "code",
   "execution_count": 23,
   "metadata": {},
   "outputs": [
    {
     "name": "stdout",
     "output_type": "stream",
     "text": [
      "C:\\Users\\Administrator\n"
     ]
    }
   ],
   "source": [
    "print(os.path.abspath(os.getcwd()))"
   ]
  },
  {
   "cell_type": "code",
   "execution_count": null,
   "metadata": {},
   "outputs": [],
   "source": []
  }
 ],
 "metadata": {
  "kernelspec": {
   "display_name": "Python 3",
   "language": "python",
   "name": "python3"
  },
  "language_info": {
   "codemirror_mode": {
    "name": "ipython",
    "version": 3
   },
   "file_extension": ".py",
   "mimetype": "text/x-python",
   "name": "python",
   "nbconvert_exporter": "python",
   "pygments_lexer": "ipython3",
   "version": "3.8.3"
  }
 },
 "nbformat": 4,
 "nbformat_minor": 4
}
